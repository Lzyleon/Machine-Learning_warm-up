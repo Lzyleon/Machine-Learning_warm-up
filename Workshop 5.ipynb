{
 "cells": [
  {
   "cell_type": "code",
   "execution_count": 8,
   "metadata": {},
   "outputs": [],
   "source": [
    "import numpy as np\n",
    "import pandas as pd\n",
    "import matplotlib.pyplot as plt"
   ]
  },
  {
   "cell_type": "code",
   "execution_count": 13,
   "metadata": {},
   "outputs": [
    {
     "name": "stdout",
     "output_type": "stream",
     "text": [
      "Data shape: (100, 2)\n",
      "The first few lines of data: [[ 6.1101 17.592 ]\n",
      " [ 5.5277  9.1302]\n",
      " [ 8.5186 13.662 ]\n",
      " [ 7.0032 11.854 ]\n",
      " [ 5.8598  6.8233]]\n"
     ]
    }
   ],
   "source": [
    "# use the correct path to where you saved the foodtruck data file\n",
    "data = pd.read_csv('SIT720.3-Step1.08-foodtruck_profits.txt', delimiter=',', header=None).values\n",
    "print(\"Data shape: {}\".format(data.shape))\n",
    "print('The first few lines of data: {}'.format(data[0:5,:]))"
   ]
  },
  {
   "cell_type": "code",
   "execution_count": 14,
   "metadata": {},
   "outputs": [
    {
     "data": {
      "text/plain": [
       "Text(0, 0.5, 'Profit in $10,000s')"
      ]
     },
     "execution_count": 14,
     "metadata": {},
     "output_type": "execute_result"
    },
    {
     "data": {
      "image/png": "[encoded data removed]",
      "text/plain": [
       "<Figure size 432x288 with 1 Axes>"
      ]
     },
     "metadata": {
      "needs_background": "light"
     },
     "output_type": "display_data"
    }
   ],
   "source": [
    "# create a scatter plot using matplot\n",
    "plt.scatter(data[:,0],data[:,1], color=\"red\", marker=\"x\",)\n",
    "# add x and y axis labels\n",
    "plt.xlabel('Population of City in 10,000s')\n",
    "plt.ylabel('Profit in $10,000s')\n"
   ]
  },
  {
   "cell_type": "code",
   "execution_count": 15,
   "metadata": {},
   "outputs": [
    {
     "name": "stdout",
     "output_type": "stream",
     "text": [
      "Number of examples: 100\n",
      "Shape of data     : (100, 1)\n",
      "Shape of labels   : (100, 1)\n"
     ]
    }
   ],
   "source": [
    "# add a variable and find the length of the data\n",
    "m = len(data)\n",
    "\n",
    "# we change the one-dimensional data into a matrix form \n",
    "X = np.matrix(data[:,0]).T\n",
    "y = np.matrix(data[:,1]).T\n",
    "\n",
    "print(\"Number of examples: {}\".format(m))\n",
    "print(\"Shape of data     : {}\".format(X.shape))\n",
    "print(\"Shape of labels   : {}\".format(y.shape))"
   ]
  },
  {
   "cell_type": "code",
   "execution_count": 16,
   "metadata": {},
   "outputs": [
    {
     "name": "stdout",
     "output_type": "stream",
     "text": [
      "New shape of data: (100, 2)\n"
     ]
    }
   ],
   "source": [
    "# add intercept term to data X\n",
    "X = np.c_[np.ones(m), X] #np.c_ helps in appending columns\n",
    "\n",
    "print(\"New shape of data: {}\".format(X.shape))\n"
   ]
  },
  {
   "cell_type": "code",
   "execution_count": 18,
   "metadata": {},
   "outputs": [
    {
     "name": "stdout",
     "output_type": "stream",
     "text": [
      "(2, 1)\n",
      "[[-3.95911545]\n",
      " [ 1.19673809]]\n"
     ]
    }
   ],
   "source": [
    "# Closed form solution\n",
    "\n",
    "#Compute inverse of (Xtranspose * X)\n",
    "temp1 = np.linalg.pinv(np.dot(X.T,X))\n",
    "\n",
    "#Computer Xtranspose * y\n",
    "temp2 = np.dot(X.T,y)\n",
    "\n",
    "W = np.dot(temp1,temp2)\n",
    "print (W.shape)\n",
    "\n",
    "print (W)\n"
   ]
  },
  {
   "cell_type": "code",
   "execution_count": 19,
   "metadata": {},
   "outputs": [
    {
     "data": {
      "text/plain": [
       "Text(0, 0.5, 'Profit in 10,000s')"
      ]
     },
     "execution_count": 19,
     "metadata": {},
     "output_type": "execute_result"
    },
    {
     "data": {
      "image/png": "[encoded data removed]",
      "text/plain": [
       "<Figure size 432x288 with 1 Axes>"
      ]
     },
     "metadata": {
      "needs_background": "light"
     },
     "output_type": "display_data"
    }
   ],
   "source": [
    "plt.scatter(data[:,0],data[:,1], color=\"red\", marker=\"x\",)\n",
    "plt.plot(X[:,1], np.dot(X,W)) #regression line\n",
    "\n",
    "plt.xlabel('Population of City in 10,000s')\n",
    "plt.ylabel('Profit in 10,000s')\n"
   ]
  },
  {
   "cell_type": "code",
   "execution_count": 20,
   "metadata": {},
   "outputs": [
    {
     "name": "stdout",
     "output_type": "stream",
     "text": [
      "Start by finding the y value at x = 17.5: [[16.98380112]]\n",
      "For a population of 175,000, we predict a profit of: [[169838.01]]\n"
     ]
    }
   ],
   "source": [
    "# 17.5 x 10,000 = 175,000 population so we use x = 17.5\n",
    "predicted_profit = np.dot([1,17.5], W)\n",
    "# Predicted profit needs to be multiplied by y units, 10,000, and rounded to be currency\n",
    "print (\"Start by finding the y value at x = 17.5: {}\".format(predicted_profit))\n",
    "# multiply by 10,000 because that's the y unit\n",
    "multiplied_profit = predicted_profit * 10000           \n",
    "# round to two decimal places so it looks like money\n",
    "final_profit = np.around(multiplied_profit, decimals = 2)\n",
    "print (\"For a population of 175,000, we predict a profit of: {}\".format(final_profit))\n"
   ]
  },
  {
   "cell_type": "code",
   "execution_count": null,
   "metadata": {},
   "outputs": [],
   "source": []
  }
 ],
 "metadata": {
  "kernelspec": {
   "display_name": "Python 3",
   "language": "python",
   "name": "python3"
  },
  "language_info": {
   "codemirror_mode": {
    "name": "ipython",
    "version": 3
   },
   "file_extension": ".py",
   "mimetype": "text/x-python",
   "name": "python",
   "nbconvert_exporter": "python",
   "pygments_lexer": "ipython3",
   "version": "3.7.1"
  }
 },
 "nbformat": 4,
 "nbformat_minor": 2
}
