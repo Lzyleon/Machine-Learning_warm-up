{
 "cells": [
  {
   "cell_type": "code",
   "execution_count": 2,
   "metadata": {},
   "outputs": [],
   "source": [
    "# import packages\n",
    "from sklearn import datasets\n",
    "from scipy import optimize\n",
    "import numpy as np\n",
    "import pandas as pd\n",
    "import matplotlib.pyplot as plt\n",
    "import math"
   ]
  },
  {
   "cell_type": "code",
   "execution_count": 3,
   "metadata": {},
   "outputs": [],
   "source": [
    "# import text analysis tools\n",
    "from sklearn.feature_extraction.text import CountVectorizer\n",
    "from sklearn.feature_extraction.text import TfidfVectorizer"
   ]
  },
  {
   "cell_type": "code",
   "execution_count": 4,
   "metadata": {},
   "outputs": [
    {
     "data": {
      "image/png": "[encoded data removed]",
      "text/plain": [
       "<Figure size 432x288 with 1 Axes>"
      ]
     },
     "metadata": {
      "needs_background": "light"
     },
     "output_type": "display_data"
    }
   ],
   "source": [
    "x = np.array([1,2,3,4,5,6,7,8])\n",
    "y = np.array([10,12,8,15,44,23,12,9])\n",
    "\n",
    "plt.plot(x,y)\n",
    "plt.show()"
   ]
  },
  {
   "cell_type": "code",
   "execution_count": 5,
   "metadata": {},
   "outputs": [
    {
     "name": "stdout",
     "output_type": "stream",
     "text": [
      "A is\n",
      "[[ 0  1  2  3]\n",
      " [ 4  5  6  7]\n",
      " [ 8  9 10 11]\n",
      " [12 13 14 15]\n",
      " [16 17 18 19]]\n",
      "Grab the second Column of A [ 1  5  9 13 17]\n",
      "Grab a particular element: 13\n",
      "[1 5]\n",
      "[ 7 11 15]\n",
      "[[ 6  7]\n",
      " [10 11]\n",
      " [14 15]]\n"
     ]
    }
   ],
   "source": [
    "# metrix 5x4\n",
    "A = np.arange(20).reshape((5,4))\n",
    "print (\"A is\")\n",
    "print (A)\n",
    "print ('Grab the second Column of A', A[:,1])\n",
    "print ('Grab a particular element:', A[3,1])   # column 2, row 4\n",
    "print (A[:2,1]) # row 1 & 2, column 2\n",
    "print (A[1:4,3]) # row 2 - 4, column 4\n",
    "print (A[1:4,2:4]) # row 2 -4 ,column 3 & 4"
   ]
  },
  {
   "cell_type": "code",
   "execution_count": 7,
   "metadata": {},
   "outputs": [],
   "source": [
    "p = A[:,1]"
   ]
  },
  {
   "cell_type": "code",
   "execution_count": 9,
   "metadata": {},
   "outputs": [
    {
     "name": "stdout",
     "output_type": "stream",
     "text": [
      "(5,)\n",
      "<class 'numpy.ndarray'>\n"
     ]
    }
   ],
   "source": [
    "print(np.shape(p))\n",
    "print(type(p))"
   ]
  },
  {
   "cell_type": "code",
   "execution_count": 6,
   "metadata": {},
   "outputs": [
    {
     "data": {
      "image/png": "[encoded data removed]",
      "text/plain": [
       "<Figure size 432x288 with 1 Axes>"
      ]
     },
     "metadata": {
      "needs_background": "light"
     },
     "output_type": "display_data"
    }
   ],
   "source": [
    "from sklearn.linear_model import LinearRegression\n",
    "\n",
    "# create new linear model object\n",
    "linear_model = LinearRegression()\n",
    "\n",
    "# generate 200 random training data between 0-1 (train input)\n",
    "X = np.random.rand(200,1)\n",
    "\n",
    "# create an log\n",
    "Y = np.log(X)\n",
    "\n",
    "# train model\n",
    "linear_model.fit(X,Y)\n",
    "# generate test data (test input)\n",
    "X_test = np.random.rand(400,1)\n",
    "\n",
    "Y_test = linear_model.predict(X_test)\n",
    "\n",
    "plt.plot(X,Y,'.b')\n",
    "plt.plot(X_test,Y_test,color='pink',linewidth=3)\n",
    "plt.show()"
   ]
  },
  {
   "cell_type": "code",
   "execution_count": 98,
   "metadata": {},
   "outputs": [
    {
     "name": "stdout",
     "output_type": "stream",
     "text": [
      "The doc is the list: ['the food is tasty Flight attendants were rud', 'The flight was late, the captain was angry. the food was cold', 'the flight were pleasant,Attendants were friendly.overall is good']\n"
     ]
    },
    {
     "data": {
      "text/plain": [
       "CountVectorizer(analyzer='word', binary=False, decode_error='strict',\n",
       "        dtype=<class 'numpy.int64'>, encoding='utf-8', input='content',\n",
       "        lowercase=True, max_df=1.0, max_features=None, min_df=1,\n",
       "        ngram_range=(1, 1), preprocessor=None, stop_words=None,\n",
       "        strip_accents=None, token_pattern='(?u)\\\\b\\\\w\\\\w+\\\\b',\n",
       "        tokenizer=None, vocabulary=None)"
      ]
     },
     "execution_count": 98,
     "metadata": {},
     "output_type": "execute_result"
    }
   ],
   "source": [
    "doc = [\n",
    "    'the food is tasty Flight attendants were rud',\n",
    "    'The flight was late, the captain was angry. the food was cold',\n",
    "    'the flight were pleasant,Attendants were friendly.overall is good',\n",
    "]\n",
    "print(\"The doc is the list: {}\".format(doc))\n",
    "vectorizer = CountVectorizer()\n",
    "vectorizer"
   ]
  },
  {
   "cell_type": "code",
   "execution_count": 99,
   "metadata": {},
   "outputs": [
    {
     "data": {
      "text/plain": [
       "['angry',\n",
       " 'attendants',\n",
       " 'captain',\n",
       " 'cold',\n",
       " 'flight',\n",
       " 'food',\n",
       " 'friendly',\n",
       " 'good',\n",
       " 'is',\n",
       " 'late',\n",
       " 'overall',\n",
       " 'pleasant',\n",
       " 'rud',\n",
       " 'tasty',\n",
       " 'the',\n",
       " 'was',\n",
       " 'were']"
      ]
     },
     "execution_count": 99,
     "metadata": {},
     "output_type": "execute_result"
    }
   ],
   "source": [
    "termfreq = vectorizer.fit_transform(doc)\n",
    "vectorizer.get_feature_names()"
   ]
  },
  {
   "cell_type": "code",
   "execution_count": 100,
   "metadata": {},
   "outputs": [
    {
     "data": {
      "text/plain": [
       "array([[0, 1, 0, 0, 1, 1, 0, 0, 1, 0, 0, 0, 1, 1, 1, 0, 1],\n",
       "       [1, 0, 1, 1, 1, 1, 0, 0, 0, 1, 0, 0, 0, 0, 3, 3, 0],\n",
       "       [0, 1, 0, 0, 1, 0, 1, 1, 1, 0, 1, 1, 0, 0, 1, 0, 2]], dtype=int64)"
      ]
     },
     "execution_count": 100,
     "metadata": {},
     "output_type": "execute_result"
    }
   ],
   "source": [
    "termfreq.toarray()"
   ]
  },
  {
   "cell_type": "code",
   "execution_count": 101,
   "metadata": {},
   "outputs": [
    {
     "data": {
      "text/plain": [
       "TfidfVectorizer(analyzer='word', binary=False, decode_error='strict',\n",
       "        dtype=<class 'numpy.float64'>, encoding='utf-8', input='content',\n",
       "        lowercase=True, max_df=1.0, max_features=None, min_df=1,\n",
       "        ngram_range=(1, 1), norm='l2', preprocessor=None, smooth_idf=True,\n",
       "        stop_words=None, strip_accents=None, sublinear_tf=False,\n",
       "        token_pattern='(?u)\\\\b\\\\w\\\\w+\\\\b', tokenizer=None, use_idf=True,\n",
       "        vocabulary=None)"
      ]
     },
     "execution_count": 101,
     "metadata": {},
     "output_type": "execute_result"
    }
   ],
   "source": [
    "vectorizer = TfidfVectorizer()\n",
    "vectorizer"
   ]
  },
  {
   "cell_type": "code",
   "execution_count": 102,
   "metadata": {},
   "outputs": [
    {
     "name": "stdout",
     "output_type": "stream",
     "text": [
      "{'the': 14, 'food': 5, 'is': 8, 'tasty': 13, 'flight': 4, 'attendants': 1, 'were': 16, 'rud': 12, 'was': 15, 'late': 9, 'captain': 2, 'angry': 0, 'cold': 3, 'pleasant': 11, 'friendly': 6, 'overall': 10, 'good': 7}\n"
     ]
    },
    {
     "data": {
      "text/plain": [
       "matrix([[0.        , 0.33973539, 0.        , 0.        , 0.26383484,\n",
       "         0.33973539, 0.        , 0.        , 0.33973539, 0.        ,\n",
       "         0.        , 0.        , 0.44671121, 0.44671121, 0.26383484,\n",
       "         0.        , 0.33973539],\n",
       "        [0.24206141, 0.        , 0.24206141, 0.24206141, 0.14296537,\n",
       "         0.18409394, 0.        , 0.        , 0.        , 0.24206141,\n",
       "         0.        , 0.        , 0.        , 0.        , 0.42889611,\n",
       "         0.72618424, 0.        ],\n",
       "        [0.        , 0.26610602, 0.        , 0.        , 0.20665507,\n",
       "         0.        , 0.34989744, 0.34989744, 0.26610602, 0.        ,\n",
       "         0.34989744, 0.34989744, 0.        , 0.        , 0.20665507,\n",
       "         0.        , 0.53221205]])"
      ]
     },
     "execution_count": 102,
     "metadata": {},
     "output_type": "execute_result"
    }
   ],
   "source": [
    "tfidfmatrix = vectorizer.fit_transform(doc)\n",
    "print(vectorizer.vocabulary_)\n",
    "tfidfmatrix.todense()"
   ]
  },
  {
   "cell_type": "code",
   "execution_count": 1,
   "metadata": {},
   "outputs": [
    {
     "ename": "ModuleNotFoundError",
     "evalue": "No module named 'wordcloud'",
     "output_type": "error",
     "traceback": [
      "\u001b[0;31m---------------------------------------------------------------------------\u001b[0m",
      "\u001b[0;31mModuleNotFoundError\u001b[0m                       Traceback (most recent call last)",
      "\u001b[0;32m<ipython-input-1-d093750dfa42>\u001b[0m in \u001b[0;36m<module>\u001b[0;34m\u001b[0m\n\u001b[0;32m----> 1\u001b[0;31m \u001b[0;32mfrom\u001b[0m \u001b[0mwordcloud\u001b[0m \u001b[0;32mimport\u001b[0m \u001b[0mWordCloud\u001b[0m\u001b[0;34m,\u001b[0m \u001b[0mSTOPWORDS\u001b[0m\u001b[0;34m\u001b[0m\u001b[0;34m\u001b[0m\u001b[0m\n\u001b[0m",
      "\u001b[0;31mModuleNotFoundError\u001b[0m: No module named 'wordcloud'"
     ]
    }
   ],
   "source": [
    "from wordcloud import WordCloud, STOPWORDS "
   ]
  },
  {
   "cell_type": "code",
   "execution_count": null,
   "metadata": {},
   "outputs": [],
   "source": []
  }
 ],
 "metadata": {
  "kernelspec": {
   "display_name": "Python 3",
   "language": "python",
   "name": "python3"
  },
  "language_info": {
   "codemirror_mode": {
    "name": "ipython",
    "version": 3
   },
   "file_extension": ".py",
   "mimetype": "text/x-python",
   "name": "python",
   "nbconvert_exporter": "python",
   "pygments_lexer": "ipython3",
   "version": "3.7.1"
  }
 },
 "nbformat": 4,
 "nbformat_minor": 2
}
