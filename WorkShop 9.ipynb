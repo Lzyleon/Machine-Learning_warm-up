{
 "cells": [
  {
   "cell_type": "code",
   "execution_count": 1,
   "metadata": {},
   "outputs": [],
   "source": [
    "from sklearn import tree\n",
    "from sklearn.model_selection import train_test_split\n",
    "from sklearn.metrics import accuracy_score\n",
    "import numpy as np\n",
    "import pandas as pd\n",
    "import matplotlib.pyplot as plt"
   ]
  },
  {
   "cell_type": "code",
   "execution_count": 2,
   "metadata": {},
   "outputs": [
    {
     "data": {
      "text/html": [
       "<div>\n",
       "<style scoped>\n",
       "    .dataframe tbody tr th:only-of-type {\n",
       "        vertical-align: middle;\n",
       "    }\n",
       "\n",
       "    .dataframe tbody tr th {\n",
       "        vertical-align: top;\n",
       "    }\n",
       "\n",
       "    .dataframe thead th {\n",
       "        text-align: right;\n",
       "    }\n",
       "</style>\n",
       "<table border=\"1\" class=\"dataframe\">\n",
       "  <thead>\n",
       "    <tr style=\"text-align: right;\">\n",
       "      <th></th>\n",
       "      <th>PassengerId</th>\n",
       "      <th>Survived</th>\n",
       "      <th>Pclass</th>\n",
       "      <th>Sex</th>\n",
       "      <th>Age</th>\n",
       "      <th>Embarked_Q</th>\n",
       "      <th>Embarked_S</th>\n",
       "    </tr>\n",
       "  </thead>\n",
       "  <tbody>\n",
       "    <tr>\n",
       "      <th>0</th>\n",
       "      <td>1</td>\n",
       "      <td>0</td>\n",
       "      <td>3</td>\n",
       "      <td>1</td>\n",
       "      <td>22.0</td>\n",
       "      <td>0</td>\n",
       "      <td>1</td>\n",
       "    </tr>\n",
       "    <tr>\n",
       "      <th>1</th>\n",
       "      <td>2</td>\n",
       "      <td>1</td>\n",
       "      <td>1</td>\n",
       "      <td>0</td>\n",
       "      <td>38.0</td>\n",
       "      <td>0</td>\n",
       "      <td>0</td>\n",
       "    </tr>\n",
       "    <tr>\n",
       "      <th>2</th>\n",
       "      <td>3</td>\n",
       "      <td>1</td>\n",
       "      <td>3</td>\n",
       "      <td>0</td>\n",
       "      <td>26.0</td>\n",
       "      <td>0</td>\n",
       "      <td>1</td>\n",
       "    </tr>\n",
       "    <tr>\n",
       "      <th>3</th>\n",
       "      <td>4</td>\n",
       "      <td>1</td>\n",
       "      <td>1</td>\n",
       "      <td>0</td>\n",
       "      <td>35.0</td>\n",
       "      <td>0</td>\n",
       "      <td>1</td>\n",
       "    </tr>\n",
       "    <tr>\n",
       "      <th>4</th>\n",
       "      <td>5</td>\n",
       "      <td>0</td>\n",
       "      <td>3</td>\n",
       "      <td>1</td>\n",
       "      <td>35.0</td>\n",
       "      <td>0</td>\n",
       "      <td>1</td>\n",
       "    </tr>\n",
       "  </tbody>\n",
       "</table>\n",
       "</div>"
      ],
      "text/plain": [
       "   PassengerId  Survived  Pclass  Sex   Age  Embarked_Q  Embarked_S\n",
       "0            1         0       3    1  22.0           0           1\n",
       "1            2         1       1    0  38.0           0           0\n",
       "2            3         1       3    0  26.0           0           1\n",
       "3            4         1       1    0  35.0           0           1\n",
       "4            5         0       3    1  35.0           0           1"
      ]
     },
     "execution_count": 2,
     "metadata": {},
     "output_type": "execute_result"
    }
   ],
   "source": [
    "titanic_df = pd.read_csv(\"Titanic_cleaned_data.csv\")\n",
    "titanic_df.head()"
   ]
  },
  {
   "cell_type": "code",
   "execution_count": 3,
   "metadata": {},
   "outputs": [],
   "source": [
    "# define X and y\n",
    "feature_cols = ['Pclass', 'Sex', 'Age', 'Embarked_Q', 'Embarked_S']\n",
    "X = titanic_df[feature_cols]\n",
    "y = titanic_df.Survived"
   ]
  },
  {
   "cell_type": "code",
   "execution_count": 4,
   "metadata": {},
   "outputs": [],
   "source": [
    "Xtrain, Xtest, ytrain, ytest = train_test_split(X, y, test_size=0.3, random_state=42)"
   ]
  },
  {
   "cell_type": "code",
   "execution_count": 5,
   "metadata": {},
   "outputs": [
    {
     "data": {
      "text/plain": [
       "DecisionTreeClassifier(class_weight=None, criterion='gini', max_depth=5,\n",
       "            max_features=None, max_leaf_nodes=None,\n",
       "            min_impurity_decrease=0.0, min_impurity_split=None,\n",
       "            min_samples_leaf=1, min_samples_split=2,\n",
       "            min_weight_fraction_leaf=0.0, presort=False, random_state=1,\n",
       "            splitter='best')"
      ]
     },
     "execution_count": 5,
     "metadata": {},
     "output_type": "execute_result"
    }
   ],
   "source": [
    "# fit a classification tree with max_depth=5\n",
    "from sklearn.tree import DecisionTreeClassifier\n",
    "treeclf = DecisionTreeClassifier(max_depth=5, random_state=1)\n",
    "\n",
    "# Fit our training data\n",
    "treeclf.fit(Xtrain, ytrain)"
   ]
  },
  {
   "cell_type": "code",
   "execution_count": 6,
   "metadata": {},
   "outputs": [
    {
     "name": "stdout",
     "output_type": "stream",
     "text": [
      "Training accuracy: 0.8523274478330658\n",
      "Testing accuracy : 0.7723880597014925\n"
     ]
    }
   ],
   "source": [
    "print(\"Training accuracy: {}\".format(accuracy_score(ytrain, treeclf.predict(Xtrain))))\n",
    "print(\"Testing accuracy : {}\".format(accuracy_score(ytest, treeclf.predict(Xtest))))"
   ]
  },
  {
   "cell_type": "code",
   "execution_count": 7,
   "metadata": {},
   "outputs": [
    {
     "name": "stdout",
     "output_type": "stream",
     "text": [
      "Accuracy for each fold: [0.75       0.77777778 0.87096774 0.87096774 0.79032258 0.75806452\n",
      " 0.79032258 0.72580645 0.79032258 0.88709677]\n",
      "Mean Accuracy: 0.8011648745519713\n"
     ]
    }
   ],
   "source": [
    "# use crossvalidation to get avg accuracy\n",
    "from sklearn.model_selection import cross_val_score\n",
    "scores = cross_val_score(treeclf, Xtrain, ytrain, cv=10, scoring='accuracy')\n",
    "print(\"Accuracy for each fold: {}\".format(scores))\n",
    "print(\"Mean Accuracy: {}\".format(np.mean(scores)))"
   ]
  },
  {
   "cell_type": "code",
   "execution_count": 19,
   "metadata": {},
   "outputs": [
    {
     "name": "stdout",
     "output_type": "stream",
     "text": [
      "(10, 10)\n"
     ]
    }
   ],
   "source": [
    "import sklearn\n",
    "# from sklearn.learning_curve import learning_curve\n",
    "from sklearn.model_selection import validation_curve\n",
    "# depth takes values from 1 to 10\n",
    "max_depth_range = range(1, 11)\n",
    "\n",
    "# do 10-fold cross-validation for each value in max_depth_range and return the accuracy scores. \n",
    "train_scores, valid_scores = validation_curve( treeclf, Xtrain, ytrain, param_name=\"max_depth\", param_range=max_depth_range,\n",
    "    cv=10, scoring=\"accuracy\")\n",
    "\n",
    "#Size of train_scores will be: length of parameter (max_depth_range) X number of folds\n",
    "print(train_scores.shape)"
   ]
  },
  {
   "cell_type": "code",
   "execution_count": 20,
   "metadata": {},
   "outputs": [
    {
     "data": {
      "text/plain": [
       "Text(0.5, 1.0, 'Accuracy comparison of training/validation set')"
      ]
     },
     "execution_count": 20,
     "metadata": {},
     "output_type": "execute_result"
    },
    {
     "data": {
      "image/png": "[encoded data removed]",
      "text/plain": [
       "<Figure size 432x288 with 1 Axes>"
      ]
     },
     "metadata": {
      "needs_background": "light"
     },
     "output_type": "display_data"
    }
   ],
   "source": [
    "# Mean accuracy score for each value of max-depth\n",
    "mean_train_score = np.mean(train_scores, axis=1)\n",
    "mean_val_score   = np.mean(valid_scores, axis=1)\n",
    "\n",
    "plt.plot(max_depth_range, mean_train_score, color=\"blue\", linewidth=1.5, label=\"Training\")\n",
    "plt.plot(max_depth_range, mean_val_score, color=\"red\", linewidth=1.5, label=\"Validation\")\n",
    "plt.legend(loc=\"upper left\")\n",
    "plt.xlabel(\"Tree-depth\")\n",
    "plt.ylabel(\"Model Accuracy\")\n",
    "plt.title(\"Accuracy comparison of training/validation set\")"
   ]
  },
  {
   "cell_type": "code",
   "execution_count": 21,
   "metadata": {},
   "outputs": [
    {
     "name": "stdout",
     "output_type": "stream",
     "text": [
      "Training accuracy: 0.8298555377207063\n",
      "Testing accuracy : 0.8059701492537313\n"
     ]
    }
   ],
   "source": [
    "treeclf = DecisionTreeClassifier(max_depth=3)\n",
    "treeclf.fit(Xtrain,ytrain)\n",
    "print(\"Training accuracy: {}\".format(accuracy_score(ytrain, treeclf.predict(Xtrain))))\n",
    "print(\"Testing accuracy : {}\".format(accuracy_score(ytest, treeclf.predict(Xtest))))"
   ]
  },
  {
   "cell_type": "code",
   "execution_count": 22,
   "metadata": {},
   "outputs": [
    {
     "name": "stdout",
     "output_type": "stream",
     "text": [
      "Training accuracy: 0.8346709470304976\n",
      "Testing accuracy : 0.8134328358208955\n"
     ]
    }
   ],
   "source": [
    "from sklearn.ensemble import RandomForestClassifier\n",
    "\n",
    "rfclf = RandomForestClassifier(n_estimators=300, max_depth=3, random_state=42)\n",
    "rfclf.fit(Xtrain,ytrain)\n",
    "\n",
    "print(\"Training accuracy: {}\".format(accuracy_score(ytrain, rfclf.predict(Xtrain))))\n",
    "print(\"Testing accuracy : {}\".format(accuracy_score(ytest, rfclf.predict(Xtest))))"
   ]
  },
  {
   "cell_type": "code",
   "execution_count": 23,
   "metadata": {},
   "outputs": [
    {
     "name": "stdout",
     "output_type": "stream",
     "text": [
      "[0.23456692 0.56777602 0.13263483 0.01325733 0.0517649 ]\n",
      "['Pclass', 'Sex', 'Age', 'Embarked_Q', 'Embarked_S']\n"
     ]
    }
   ],
   "source": [
    "print(rfclf.feature_importances_)\n",
    "print(feature_cols)"
   ]
  },
  {
   "cell_type": "code",
   "execution_count": 24,
   "metadata": {},
   "outputs": [
    {
     "data": {
      "image/png": "[encoded data removed]",
      "text/plain": [
       "<Figure size 432x288 with 1 Axes>"
      ]
     },
     "metadata": {
      "needs_background": "light"
     },
     "output_type": "display_data"
    }
   ],
   "source": [
    "n = len(feature_cols)\n",
    "plt.bar(range(0,n),rfclf.feature_importances_)\n",
    "\n",
    "plt.xticks(range(0,n), feature_cols, rotation=45) # put the feature names in x-axis\n",
    "plt.xlim([-1, n]) # reset the x-limits for readability\n",
    "plt.ylabel(\"Feature Importance\")\n",
    "plt.show()"
   ]
  },
  {
   "cell_type": "code",
   "execution_count": null,
   "metadata": {},
   "outputs": [],
   "source": []
  }
 ],
 "metadata": {
  "kernelspec": {
   "display_name": "Python 3",
   "language": "python",
   "name": "python3"
  },
  "language_info": {
   "codemirror_mode": {
    "name": "ipython",
    "version": 3
   },
   "file_extension": ".py",
   "mimetype": "text/x-python",
   "name": "python",
   "nbconvert_exporter": "python",
   "pygments_lexer": "ipython3",
   "version": "3.7.1"
  }
 },
 "nbformat": 4,
 "nbformat_minor": 2
}
