{
 "cells": [
  {
   "cell_type": "markdown",
   "metadata": {},
   "source": [
    "## Workshop 1\n",
    "### Task 1: \n",
    "Define a string with value equal to “Python is fun!”. How can you print every third character of it?"
   ]
  },
  {
   "cell_type": "code",
   "execution_count": 40,
   "metadata": {},
   "outputs": [
    {
     "name": "stdout",
     "output_type": "stream",
     "text": [
      "tnsu\n"
     ]
    }
   ],
   "source": [
    "string = \"Python is fun!\"\n",
    "print(string[2:13:3])"
   ]
  },
  {
   "cell_type": "markdown",
   "metadata": {},
   "source": [
    "### Task 2:\n",
    "Create a list containing five integers. Modify each even index element by adding it with previous index element. Print the list before and after modification."
   ]
  },
  {
   "cell_type": "code",
   "execution_count": 41,
   "metadata": {},
   "outputs": [
    {
     "name": "stdout",
     "output_type": "stream",
     "text": [
      "Initial list: [1, 2, 3, 4, 5]\n",
      "The new list: [1, 2, 5, 4, 9]\n"
     ]
    }
   ],
   "source": [
    "x = [1,2,3,4,5]\n",
    "print(\"Initial list: {}\".format(x))\n",
    "\n",
    "for idx, n in enumerate(x):\n",
    "    if idx >0 and idx % 2 ==0:\n",
    "        x[idx]= x[idx]+x[idx-1]\n",
    "\n",
    "print(\"The new list: {}\".format(x))"
   ]
  },
  {
   "cell_type": "markdown",
   "metadata": {},
   "source": [
    "### Task 3: \n",
    "Create a tuple with three random integers. Now try to swap the first and the last element. What is the output?"
   ]
  },
  {
   "cell_type": "code",
   "execution_count": 6,
   "metadata": {},
   "outputs": [
    {
     "name": "stdout",
     "output_type": "stream",
     "text": [
      "Initial tuple: (1, 2, 3)\n"
     ]
    }
   ],
   "source": [
    "tuple = (1,2,3)\n",
    "print(\"Initial tuple: {}\".format(tuple))\n",
    "tuple[0]=tuple[2]\n",
    "\n",
    "# tuple does not support item assignment"
   ]
  },
  {
   "cell_type": "markdown",
   "metadata": {},
   "source": [
    "### Task 4:\n",
    "Create a dictionary with the key/values: 0/'we', '1'/'love', 'last':'python programming'. Try to print each value specifying the keys."
   ]
  },
  {
   "cell_type": "code",
   "execution_count": 14,
   "metadata": {},
   "outputs": [
    {
     "name": "stdout",
     "output_type": "stream",
     "text": [
      "{0: 'we', 1: 'love', 'last': 'python programming'}\n",
      "we love python programming\n"
     ]
    }
   ],
   "source": [
    "dict = {}\n",
    "dict[0] = \"we\"\n",
    "dict[1] = \"love\"\n",
    "dict['last'] = \"python programming\"\n",
    "print(dict)\n",
    "print(dict[0],dict[1],dict['last'])"
   ]
  },
  {
   "cell_type": "markdown",
   "metadata": {},
   "source": [
    "### Task 5: \n",
    "Create a list of integers from 1 to 50. Print all the values that are divisible by 3 and not divisible by 2. You can use the code shell given below to get you started."
   ]
  },
  {
   "cell_type": "code",
   "execution_count": 69,
   "metadata": {},
   "outputs": [
    {
     "name": "stdout",
     "output_type": "stream",
     "text": [
      "3\n",
      "9\n",
      "15\n",
      "21\n",
      "27\n",
      "33\n",
      "39\n",
      "45\n"
     ]
    }
   ],
   "source": [
    "list5 = list(range(1,51)) # including 50\n",
    "for item in list5:\n",
    "    if item %3==0 and item %2==1:\n",
    "        print(item)"
   ]
  },
  {
   "cell_type": "markdown",
   "metadata": {},
   "source": [
    "### Task 6:\n",
    "Create a list X of odd numbers between 10 and 30 and print them. Create a new list Y which contains cubic of each element of X."
   ]
  },
  {
   "cell_type": "code",
   "execution_count": 60,
   "metadata": {},
   "outputs": [
    {
     "name": "stdout",
     "output_type": "stream",
     "text": [
      "[10, 12, 14, 16, 18, 20, 22, 24, 26, 28, 30]\n",
      "[1000, 1728, 2744, 4096, 5832, 8000, 10648, 13824, 17576, 21952, 27000]\n"
     ]
    }
   ],
   "source": [
    "X = list(range(10,31))[0:29:2] # odd numbers in the range of 10 - 30 (including 30)\n",
    "Y = list(range(10,31))[0:29:2]\n",
    "for idx,n in enumerate(Y):\n",
    "    Y[idx] = n**3\n",
    "print(X)\n",
    "print(Y)"
   ]
  },
  {
   "cell_type": "markdown",
   "metadata": {},
   "source": [
    "### Task 7：\n",
    "Create a list X of odd numbers between 5 and 10. Create another list Y of even numbers between 4 and 9. Create third list Z, where Z=X*Y."
   ]
  },
  {
   "cell_type": "code",
   "execution_count": 68,
   "metadata": {},
   "outputs": [
    {
     "name": "stdout",
     "output_type": "stream",
     "text": [
      "[5, 7, 9]\n",
      "[4, 6, 8]\n",
      "[20, 42, 72]\n"
     ]
    }
   ],
   "source": [
    "X = list(range(5,11))[0:6:2]\n",
    "Y = list(range(4,10))[0:6:2]\n",
    "Z = [X[i]*Y[i] for i in range(len(X))]\n",
    "print(X)\n",
    "print(Y)\n",
    "print(Z)"
   ]
  }
 ],
 "metadata": {
  "kernelspec": {
   "display_name": "Python 3",
   "language": "python",
   "name": "python3"
  },
  "language_info": {
   "codemirror_mode": {
    "name": "ipython",
    "version": 3
   },
   "file_extension": ".py",
   "mimetype": "text/x-python",
   "name": "python",
   "nbconvert_exporter": "python",
   "pygments_lexer": "ipython3",
   "version": "3.7.1"
  }
 },
 "nbformat": 4,
 "nbformat_minor": 2
}
